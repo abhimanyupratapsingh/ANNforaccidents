{
 "cells": [
  {
   "cell_type": "code",
   "execution_count": 4,
   "id": "9ecc22df-3d2b-4342-af8e-d874e2789962",
   "metadata": {},
   "outputs": [
    {
     "name": "stdout",
     "output_type": "stream",
     "text": [
      "[[218   0   1]\n",
      " [  0 119   0]\n",
      " [ 24  33   5]]\n"
     ]
    },
    {
     "data": {
      "text/plain": [
       "0.855"
      ]
     },
     "execution_count": 4,
     "metadata": {},
     "output_type": "execute_result"
    }
   ],
   "source": [
    "#Classified by severity level\n",
    "#ALCHL_I : Presence (1) / Absence (2) of alcohol\n",
    "#PROFIL_I_R : Profile of the roadway: level (1), other (0)\n",
    "#SUR_COND : Surface condition of the road: dry (1), wet (2), snow/slush (3), ice (4), unknown (9)\n",
    "#VEH_INVL Number of vehicles involved\n",
    "#MAX_SEV_IR : Presence of injuries/fatalities: no injuries (0), injury (1), fatality (2)\n",
    "\n",
    "\n",
    "import pandas as pd\n",
    "from sklearn.model_selection import train_test_split\n",
    "from sklearn.neural_network import MLPClassifier\n",
    "\n",
    "\n",
    "\n",
    "\n",
    "accidents_df = pd.read_csv('ACCIDENTS.csv')\n",
    "input_vars = ['ALCHL_I', 'PROFIL_I_R', 'VEH_INVL']\n",
    "\n",
    "\n",
    "accidents_df.SUR_COND = accidents_df.SUR_COND.astype('category')\n",
    "accidents_df.MAX_SEV_IR = accidents_df.MAX_SEV_IR.astype('category')\n",
    "\n",
    "\n",
    "processed = pd.get_dummies(accidents_df, columns=['SUR_COND'])\n",
    "\n",
    "\n",
    "processed = processed.drop(columns=['SUR_COND_9'])\n",
    "\n",
    "outcome = 'MAX_SEV_IR'\n",
    "predictors = [c for c in processed.columns if c != outcome]\n",
    "\n",
    "\n",
    "X = processed[predictors]\n",
    "Y = processed[outcome]\n",
    "\n",
    "\n",
    "train_X, test_X, train_Y, test_Y = train_test_split(X, Y, test_size=0.4,random_state=1)\n",
    "\n",
    "clf = MLPClassifier(hidden_layer_sizes=(2), activation='logistic', solver='lbfgs', random_state=1)\n",
    "\n",
    "clf.fit(train_X, train_Y.values)\n",
    "\n",
    "Y_pred = clf.predict(test_X)\n",
    "\n",
    "from sklearn.metrics import confusion_matrix, accuracy_score\n",
    "cm = confusion_matrix(test_Y, Y_pred)\n",
    "print(cm)\n",
    "accuracy_score(test_Y, Y_pred)"
   ]
  },
  {
   "cell_type": "code",
   "execution_count": null,
   "id": "1b3d631c-8c4d-4529-aea8-285a43764a3e",
   "metadata": {},
   "outputs": [],
   "source": [
    "\n"
   ]
  },
  {
   "cell_type": "code",
   "execution_count": null,
   "id": "6fc0dcd3-9633-4d33-9f03-b9762b7693a9",
   "metadata": {},
   "outputs": [],
   "source": []
  }
 ],
 "metadata": {
  "kernelspec": {
   "display_name": "Python 3 (ipykernel)",
   "language": "python",
   "name": "python3"
  },
  "language_info": {
   "codemirror_mode": {
    "name": "ipython",
    "version": 3
   },
   "file_extension": ".py",
   "mimetype": "text/x-python",
   "name": "python",
   "nbconvert_exporter": "python",
   "pygments_lexer": "ipython3",
   "version": "3.12.4"
  }
 },
 "nbformat": 4,
 "nbformat_minor": 5
}
